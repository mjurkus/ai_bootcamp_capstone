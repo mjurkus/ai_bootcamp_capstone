{
 "cells": [
  {
   "cell_type": "code",
   "execution_count": 1,
   "metadata": {},
   "outputs": [
    {
     "name": "stderr",
     "output_type": "stream",
     "text": [
      "/home/martynas/ml/.venv/lib/python3.6/site-packages/sklearn/externals/joblib/__init__.py:15: DeprecationWarning: sklearn.externals.joblib is deprecated in 0.21 and will be removed in 0.23. Please import this functionality directly from joblib, which can be installed with: pip install joblib. If this warning is raised when loading pickled models, you may need to re-serialize those models with scikit-learn 0.21+.\n",
      "  warnings.warn(msg, category=DeprecationWarning)\n"
     ]
    }
   ],
   "source": [
    "from toai.imports import *\n",
    "import xmltodict"
   ]
  },
  {
   "cell_type": "code",
   "execution_count": 2,
   "metadata": {},
   "outputs": [],
   "source": [
    "DATA_DIR = Path('data/raw/images')\n",
    "DATA_DEST = Path('data/images')\n",
    "DATA_DEST.mkdir(parents=True, exist_ok=True)"
   ]
  },
  {
   "cell_type": "code",
   "execution_count": 3,
   "metadata": {},
   "outputs": [],
   "source": [
    "all_files = glob(str(DATA_DIR / '**/*.xml'), recursive=True)"
   ]
  },
  {
   "cell_type": "code",
   "execution_count": 4,
   "metadata": {},
   "outputs": [],
   "source": [
    "json_files = []\n",
    "for xml_file in all_files:\n",
    "    with open(xml_file, encoding='utf-8') as f:\n",
    "        json_files.append(json.dumps(xmltodict.parse(f.read())))"
   ]
  },
  {
   "cell_type": "markdown",
   "metadata": {},
   "source": [
    "Copy files from raw files dir"
   ]
  },
  {
   "cell_type": "code",
   "execution_count": 5,
   "metadata": {},
   "outputs": [
    {
     "name": "stdout",
     "output_type": "stream",
     "text": [
      "Processing 2305\n",
      "Invalid file found. Skipping. data/raw/images/9K72 SS-1 SCUD/14.1251505-20234-89-pristine.jpg\n",
      "Invalid file found. Skipping. data/raw/images/9K72 SS-1 SCUD/7.1252313-20234-62-pristine.jpg\n",
      "Invalid file found. Skipping. data/raw/images/9K330 TOR/8.1254883-21625-17-720.jpg\n",
      "Done! 2302 files copied.\n"
     ]
    }
   ],
   "source": [
    "print(f\"Processing {len(json_files)}\")\n",
    "for json_file in json_files:\n",
    "    annotation = json.loads(json_file)['annotation']\n",
    "    \n",
    "    #copy photo\n",
    "    folder = annotation['folder'].replace(\" – \", \"-\").replace(\"–\", \"-\")\n",
    "    filename = annotation['filename']\n",
    "    photo_src = DATA_DIR / folder / filename\n",
    "    \n",
    "\n",
    "    with open(photo_src, \"rb\") as imageFile:\n",
    "        if imageFile.read().startswith(b\"RIFF\"):\n",
    "            print(f\"Invalid file found. Skipping. {photo_src}\")\n",
    "        else:\n",
    "            dest = DATA_DEST / folder\n",
    "            dest.mkdir(parents=True, exist_ok=True)\n",
    "            shutil.copy2(photo_src, dest)\n",
    "\n",
    "            # copy xml\n",
    "            xml_src = photo_src.with_suffix(\".xml\")\n",
    "            shutil.copy2(xml_src, dest)\n",
    "\n",
    "print(f\"Done! {len(glob(str(DATA_DEST / '**/*.xml'), recursive=True))} files copied.\")"
   ]
  },
  {
   "cell_type": "code",
   "execution_count": 6,
   "metadata": {},
   "outputs": [],
   "source": [
    "all_files = glob(str(DATA_DEST / '**/*.xml'), recursive=True)\n",
    "json_files = []\n",
    "for xml_file in all_files:\n",
    "    with open(xml_file, encoding='utf-8') as f:\n",
    "        json_files.append(json.dumps(xmltodict.parse(f.read())))"
   ]
  },
  {
   "cell_type": "markdown",
   "metadata": {},
   "source": [
    "Inspect annotations"
   ]
  },
  {
   "cell_type": "code",
   "execution_count": 7,
   "metadata": {},
   "outputs": [
    {
     "name": "stdout",
     "output_type": "stream",
     "text": [
      "{\n",
      "  \"annotation\": {\n",
      "    \"folder\": \"PTS-M\",\n",
      "    \"filename\": \"14.pts-m-v24.04.18-mudrunner-4.jpg\",\n",
      "    \"path\": \"/Users/martynas/ai_bootcamp/capstone/images/PTS-M/14.pts-m-v24.04.18-mudrunner-4.jpg\",\n",
      "    \"source\": {\n",
      "      \"database\": \"Unknown\"\n",
      "    },\n",
      "    \"size\": {\n",
      "      \"width\": \"1717\",\n",
      "      \"height\": \"1085\",\n",
      "      \"depth\": \"3\"\n",
      "    },\n",
      "    \"segmented\": \"0\",\n",
      "    \"object\": {\n",
      "      \"name\": \"PTS-M\",\n",
      "      \"pose\": \"Unspecified\",\n",
      "      \"truncated\": \"0\",\n",
      "      \"difficult\": \"0\",\n",
      "      \"bndbox\": {\n",
      "        \"xmin\": \"107\",\n",
      "        \"ymin\": \"575\",\n",
      "        \"xmax\": \"1056\",\n",
      "        \"ymax\": \"982\"\n",
      "      }\n",
      "    }\n",
      "  }\n",
      "}\n"
     ]
    }
   ],
   "source": [
    "print(json.dumps(json.loads(json_files[0]), indent=2))"
   ]
  },
  {
   "cell_type": "code",
   "execution_count": 8,
   "metadata": {},
   "outputs": [],
   "source": [
    "def parse_bboxes(obj):\n",
    "    \"\"\"Return list of [xmin, ymin, xmax, ymax]\"\"\"\n",
    "    if isinstance(obj, list):\n",
    "        res = []\n",
    "        for single in obj:\n",
    "            bndbox = single['bndbox']\n",
    "            res.append(list(bndbox.values()))\n",
    "        return res\n",
    "    else:\n",
    "        bndbox = obj['bndbox']\n",
    "        return [bndbox.values()]"
   ]
  },
  {
   "cell_type": "code",
   "execution_count": 9,
   "metadata": {},
   "outputs": [
    {
     "name": "stdout",
     "output_type": "stream",
     "text": [
      "{'folder': '9K57 BM-22V', 'filename': '11.Katjuscha_1938_Moscow.jpg', 'path': '/Users/martynas/ai_bootcamp/capstone/images/9K57 BM-22V/11.Katjuscha_1938_Moscow.jpg', 'source': {'database': 'Unknown'}, 'size': {'width': '3008', 'height': '2000', 'depth': '3'}, 'segmented': '0'}\n",
      "{'folder': 'BMP-97', 'filename': 'i (10)_11.jpeg', 'path': '/home/martynas/ml/ai_bootcamp_capstone/data/raw/images/BMP-97/i (10)_11.jpeg', 'source': {'database': 'Unknown'}, 'size': {'width': '480', 'height': '320', 'depth': '3'}, 'segmented': '0'}\n"
     ]
    }
   ],
   "source": [
    "result = []\n",
    "for json_file in json_files:\n",
    "    annotation = json.loads(json_file)['annotation']\n",
    "    folder = annotation['folder'].replace(\" – \", \"-\").replace(\"–\", \"-\")\n",
    "    filename = annotation['filename']\n",
    "    size = annotation['size']\n",
    "    width, height = size['width'], size['height']\n",
    "        \n",
    "    try:\n",
    "        bndboxs = parse_bboxes(annotation['object'])\n",
    "        for bbox in bndboxs:\n",
    "            result.append([folder, f\"images/{folder}/{filename}\", width, height, *bbox])\n",
    "    except:\n",
    "        print(annotation)\n",
    "\n",
    "df = pd.DataFrame(result, columns=['class', 'path', 'width', 'height', 'xmin', 'ymin', 'xmax', 'ymax'])"
   ]
  },
  {
   "cell_type": "code",
   "execution_count": 10,
   "metadata": {},
   "outputs": [
    {
     "name": "stdout",
     "output_type": "stream",
     "text": [
      "<class 'pandas.core.frame.DataFrame'>\n",
      "RangeIndex: 2444 entries, 0 to 2443\n",
      "Data columns (total 8 columns):\n",
      "class     2444 non-null object\n",
      "path      2444 non-null object\n",
      "width     2444 non-null object\n",
      "height    2444 non-null object\n",
      "xmin      2444 non-null object\n",
      "ymin      2444 non-null object\n",
      "xmax      2444 non-null object\n",
      "ymax      2444 non-null object\n",
      "dtypes: object(8)\n",
      "memory usage: 152.9+ KB\n"
     ]
    }
   ],
   "source": [
    "df.info()"
   ]
  },
  {
   "cell_type": "code",
   "execution_count": 11,
   "metadata": {},
   "outputs": [
    {
     "data": {
      "text/plain": [
       "104"
      ]
     },
     "execution_count": 11,
     "metadata": {},
     "output_type": "execute_result"
    }
   ],
   "source": [
    "df['class'].nunique()"
   ]
  },
  {
   "cell_type": "code",
   "execution_count": 16,
   "metadata": {},
   "outputs": [],
   "source": [
    "df = df.groupby('class').filter(lambda x: len(x) > 34)"
   ]
  },
  {
   "cell_type": "code",
   "execution_count": 17,
   "metadata": {},
   "outputs": [
    {
     "name": "stdout",
     "output_type": "stream",
     "text": [
      "<class 'pandas.core.frame.DataFrame'>\n",
      "Int64Index: 1109 entries, 50 to 2155\n",
      "Data columns (total 8 columns):\n",
      "class     1109 non-null object\n",
      "path      1109 non-null object\n",
      "width     1109 non-null object\n",
      "height    1109 non-null object\n",
      "xmin      1109 non-null object\n",
      "ymin      1109 non-null object\n",
      "xmax      1109 non-null object\n",
      "ymax      1109 non-null object\n",
      "dtypes: object(8)\n",
      "memory usage: 78.0+ KB\n"
     ]
    }
   ],
   "source": [
    "df.info()"
   ]
  },
  {
   "cell_type": "code",
   "execution_count": 18,
   "metadata": {},
   "outputs": [
    {
     "data": {
      "text/plain": [
       "12"
      ]
     },
     "execution_count": 18,
     "metadata": {},
     "output_type": "execute_result"
    }
   ],
   "source": [
    "df['class'].nunique()"
   ]
  },
  {
   "cell_type": "code",
   "execution_count": 19,
   "metadata": {},
   "outputs": [
    {
     "data": {
      "text/plain": [
       "TOS-1 BURATINO      199\n",
       "BMP-2               126\n",
       "2S19 MSTA-S         115\n",
       "T-90S                92\n",
       "BMP-1                86\n",
       "2S23 NONA-SVK        83\n",
       "ZRK-SD 2K11 KRUG     79\n",
       "BMP-3                75\n",
       "2S4 TIULPAN          75\n",
       "2B9 VASILIOK         72\n",
       "BMP-97               55\n",
       "9P149 STURM-S        52\n",
       "Name: class, dtype: int64"
      ]
     },
     "execution_count": 19,
     "metadata": {},
     "output_type": "execute_result"
    }
   ],
   "source": [
    "df['class'].value_counts()"
   ]
  },
  {
   "cell_type": "code",
   "execution_count": 20,
   "metadata": {},
   "outputs": [],
   "source": [
    "df.to_csv('data/annotations.csv', index=False)"
   ]
  },
  {
   "cell_type": "code",
   "execution_count": 21,
   "metadata": {},
   "outputs": [],
   "source": [
    "with open('data/classes.txt', \"w\") as f:\n",
    "    for clazz in df['class'].unique():\n",
    "        f.write(f\"{clazz}\\n\")"
   ]
  },
  {
   "cell_type": "code",
   "execution_count": 22,
   "metadata": {},
   "outputs": [],
   "source": [
    "df_train, df_val = train_test_split(df, test_size=0.1, stratify=df['class'])"
   ]
  },
  {
   "cell_type": "code",
   "execution_count": 23,
   "metadata": {},
   "outputs": [
    {
     "data": {
      "text/plain": [
       "(998, 111)"
      ]
     },
     "execution_count": 23,
     "metadata": {},
     "output_type": "execute_result"
    }
   ],
   "source": [
    "len(df_train), len(df_val)"
   ]
  },
  {
   "cell_type": "code",
   "execution_count": 24,
   "metadata": {},
   "outputs": [],
   "source": [
    "with open('data/images/data_train.txt', \"w\") as f:\n",
    "    for path in df_train['path'].values:\n",
    "        f.write(f\"{path}\\n\")"
   ]
  },
  {
   "cell_type": "code",
   "execution_count": 25,
   "metadata": {},
   "outputs": [],
   "source": [
    "with open('data/images/data_val.txt', \"w\") as f:\n",
    "    for path in df_val['path'].values:\n",
    "        f.write(f\"{path}\\n\")"
   ]
  },
  {
   "cell_type": "code",
   "execution_count": null,
   "metadata": {},
   "outputs": [],
   "source": []
  }
 ],
 "metadata": {
  "kernelspec": {
   "display_name": ".venv",
   "language": "python",
   "name": ".venv"
  },
  "language_info": {
   "codemirror_mode": {
    "name": "ipython",
    "version": 3
   },
   "file_extension": ".py",
   "mimetype": "text/x-python",
   "name": "python",
   "nbconvert_exporter": "python",
   "pygments_lexer": "ipython3",
   "version": "3.6.8"
  }
 },
 "nbformat": 4,
 "nbformat_minor": 4
}
